{
 "cells": [
  {
   "cell_type": "code",
   "execution_count": null,
   "id": "ec6a1329-f587-4073-b438-f5bf4899c80a",
   "metadata": {},
   "outputs": [],
   "source": [
    "# Import modules only req.\n",
    "# Delete unused modules (incl. only-from-module)"
   ]
  },
  {
   "cell_type": "code",
   "execution_count": null,
   "id": "b2672eea-aa76-4573-b2ed-860248bec42a",
   "metadata": {},
   "outputs": [],
   "source": [
    "import pandas\n",
    "import numpy\n",
    "import os\n",
    "import math\n",
    "import sklearn"
   ]
  }
 ],
 "metadata": {
  "kernelspec": {
   "display_name": "Python 3 (ipykernel)",
   "language": "python",
   "name": "python3"
  },
  "language_info": {
   "codemirror_mode": {
    "name": "ipython",
    "version": 3
   },
   "file_extension": ".py",
   "mimetype": "text/x-python",
   "name": "python",
   "nbconvert_exporter": "python",
   "pygments_lexer": "ipython3",
   "version": "3.8.13"
  }
 },
 "nbformat": 4,
 "nbformat_minor": 5
}
